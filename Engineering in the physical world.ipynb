{
 "cells": [
  {
   "cell_type": "markdown",
   "metadata": {},
   "source": [
    "## <span style=\"color:#879cc1\">Week 1</span> ##"
   ]
  },
  {
   "cell_type": "markdown",
   "metadata": {},
   "source": [
    "### Thermodynamic systems ###"
   ]
  },
  {
   "cell_type": "markdown",
   "metadata": {},
   "source": [
    "- A system is whatever you are studying\n",
    "- Has a boundary that separates it from the surroundings\n",
    "- Has properties such as temperature, volume, etc\n",
    "\n",
    "#### Across the boundary:####\n",
    "System|Energy|Mass\n",
    ":---:|:---:|:---:\n",
    "Open|Yes|Yes\n",
    "Closed|Yes|No\n",
    "Isolated|No|No"
   ]
  },
  {
   "cell_type": "markdown",
   "metadata": {},
   "source": [
    "### First Law of Thermodynamics ###\n",
    "- the variation of energy of a system($\\Delta E$) between the initial($E_1$) and final($E_2$) states is given by heat transferred(Q) into the system minus the work done(W) by the system\n",
    "\n",
    "$$\\Delta E = E_2 - E_1 = Q - W$$\n",
    "\n",
    "$$d E = \\delta Q - \\delta W\\Rightarrow \\mathrm{NOT} \\ dE = dQ-dW$$\n",
    "\n",
    "- work is positive when system does work on the surroundings\n",
    "- heat is positive when it goes into the system"
   ]
  },
  {
   "cell_type": "markdown",
   "metadata": {},
   "source": [
    "### Heat Transfer ###\n",
    "- Heat is transferred by bodies at higher temperature to bodies at lower temperatures"
   ]
  },
  {
   "cell_type": "markdown",
   "metadata": {},
   "source": [
    "#### Radiation ####\n",
    "\n",
    "- is the transfer of heat by electromagnetic radiation. It does not require a medium to propagate and can act through vacuum\n",
    "\n",
    "##### Stefan-Boltzmann's Law#####\n",
    "\n",
    "$$\\frac{dQ}{dt} = -\\epsilon \\ \\sigma \\ A(T^{4} - T_{surr}^{4})$$\n",
    "\n",
    "- $\\frac{dQ}{dt}$ = rate of heat transfer (W)\n",
    "- $\\epsilon$ = radiation property of the surface = emissivity (0 < $\\epsilon$ < 1)\n",
    "- $\\sigma$ = Stefan- Boltzmann constant = $5.67 \\times 10^{-8} \\ \\mathrm{W \\ m^{-2} \\ K^{-4}}$\n",
    "- $A$  = heat transfer area ($\\mathrm{m}^2$)\n",
    "- $T$ = temperature of system (K)\n",
    "- $T_{surr}$ = temperature of surroundings (K)"
   ]
  },
  {
   "cell_type": "markdown",
   "metadata": {},
   "source": [
    "#### Convection ####\n",
    "\n",
    "- is the energy transfer due to diffusion and bulk movement of fluid. It occurs between a surface and an adjacent fluid in motion when the two are at different temperatures\n",
    "\n",
    "##### Newton's Law of Cooling\n",
    "\n",
    "$$\\frac{dQ}{dt} = -h \\ A(T - T_{surr})$$\n",
    "\n",
    "- $\\frac{dQ}{dt}$ = rate of heat transfer (W)\n",
    "- $h$ = heat transfer coefficient ($\\mathrm{W \\ m^{-2} \\ K^{-1}}$)\n",
    "- $A$ = heat transfer area ($\\mathrm{m}^{2}$)\n",
    "\n",
    "##### Forced convection #####\n",
    "\n",
    "Fluid movement caused by an external device, ie. fan, pump etc.\n",
    "\n",
    "##### Free/natural convection #####\n",
    "\n",
    "Fluid movement is due to buoyancy effects that arise from the difference in density due to temperature variations in the fluid\n",
    "\n",
    "##### Heat transfer coefficient, h #####\n",
    "- empirical parameter\n",
    "- indication to the flow pattern near the surface, fluid properties and geometry\n",
    "- value of coefficient is generally greater for forced convection compared to natural convection\n"
   ]
  },
  {
   "cell_type": "markdown",
   "metadata": {},
   "source": [
    "#### Conduction####\n",
    "\n",
    "- is the transfer of energy from more energetic particles to adjacent, less energetic particles via interactions between particles. Requires a medium.\n",
    "\n",
    "##### Fourier's Law####\n",
    "\n",
    "$$\\frac{dQ}{dt} = -\\kappa \\ A \\frac{dT}{dx}$$\n",
    "\n",
    "- $\\frac{dQ}{dt}$ = rate of heat transfer (W)\n",
    "- $\\kappa$ = thermal conductivity ($\\mathrm{W \\ m^{-1} \\ K^{-1}}$)\n",
    "- $A$ = heat transfer area ($\\mathrm{m}^{2}$)\n",
    "- $\\frac{dT}{dx}$ = temperature gradient in the x direction ($\\mathrm{K \\ m^{-1}}$)\n",
    "\n",
    "If temperature varies linearly (steady-state condition), then\n",
    "\n",
    "$$\\frac{dQ}{dt} = -\\kappa \\ A \\frac{\\Delta T}{L}$$"
   ]
  },
  {
   "cell_type": "markdown",
   "metadata": {},
   "source": [
    "#### Thermal resistance (only for conduction and convection) ####\n",
    "\n",
    "##### Conduction #####\n",
    "\n",
    "$$ R_{T, conduction} = \\frac{T_1 - T_2}{\\frac{dQ}{dt}} = \\frac{L}{\\kappa A}$$\n",
    "\n",
    "##### Convection #####\n",
    "\n",
    "$$ R_{T, convection} = \\frac{T - T_S}{\\frac{dQ}{dt}} = \\frac{1}{h \\ A}$$\n"
   ]
  },
  {
   "cell_type": "markdown",
   "metadata": {},
   "source": [
    "### Heat balance###"
   ]
  },
  {
   "cell_type": "markdown",
   "metadata": {},
   "source": [
    "- energy conservation \n",
    "\n",
    "$$E_{in} + E_{generated} -  \\ \\mid E_{out}\\mid \\ = E_{stored}$$\n",
    "\n",
    "-Surface energy balance\n",
    "\n",
    "$$E_{in}- \\mid E_{out} \\mid \\ = 0$$\n",
    "\n",
    "$$Q_{conduction} - Q_{convection} - Q_{radiation} = 0$$"
   ]
  },
  {
   "cell_type": "markdown",
   "metadata": {
    "collapsed": true
   },
   "source": [
    "## <span style=\"color:#879cc1\">Week 2</span> ##"
   ]
  },
  {
   "cell_type": "markdown",
   "metadata": {},
   "source": [
    "### Second Law of Thermodynamics ###"
   ]
  },
  {
   "cell_type": "markdown",
   "metadata": {},
   "source": [
    "### Entropy ###"
   ]
  },
  {
   "cell_type": "markdown",
   "metadata": {},
   "source": [
    "## <span style=\"color:#879cc1\">Week 3</span> ##"
   ]
  },
  {
   "cell_type": "markdown",
   "metadata": {},
   "source": [
    "### Ideal Gases ###"
   ]
  },
  {
   "cell_type": "markdown",
   "metadata": {},
   "source": [
    "### Open systems ###"
   ]
  },
  {
   "cell_type": "markdown",
   "metadata": {},
   "source": [
    "## <span style=\"color:#879cc1\">Week 4</span> ##"
   ]
  },
  {
   "cell_type": "markdown",
   "metadata": {},
   "source": [
    "### Thermoelectric generator ###"
   ]
  },
  {
   "cell_type": "markdown",
   "metadata": {},
   "source": [
    "## <span style=\"color:#879cc1\">Week 5</span> ##"
   ]
  },
  {
   "cell_type": "markdown",
   "metadata": {},
   "source": [
    "### Thermoelectric cooler###"
   ]
  },
  {
   "cell_type": "markdown",
   "metadata": {},
   "source": [
    "## <span style=\"color:#879cc1\">Week 6</span> ##"
   ]
  },
  {
   "cell_type": "code",
   "execution_count": null,
   "metadata": {
    "collapsed": true
   },
   "outputs": [],
   "source": []
  }
 ],
 "metadata": {
  "kernelspec": {
   "display_name": "Python 3",
   "language": "python",
   "name": "python3"
  },
  "language_info": {
   "codemirror_mode": {
    "name": "ipython",
    "version": 3
   },
   "file_extension": ".py",
   "mimetype": "text/x-python",
   "name": "python",
   "nbconvert_exporter": "python",
   "pygments_lexer": "ipython3",
   "version": "3.6.3"
  }
 },
 "nbformat": 4,
 "nbformat_minor": 2
}
