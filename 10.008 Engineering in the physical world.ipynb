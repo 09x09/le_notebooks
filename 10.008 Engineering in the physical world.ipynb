{
 "cells": [
  {
   "cell_type": "markdown",
   "metadata": {},
   "source": [
    "## <span style=\"color:#879cc1\">Week 1</span> ##"
   ]
  },
  {
   "cell_type": "markdown",
   "metadata": {},
   "source": [
    "### Thermodynamic systems ###"
   ]
  },
  {
   "cell_type": "markdown",
   "metadata": {},
   "source": [
    "- A system is whatever you are studying\n",
    "- Has a boundary that separates it from the surroundings\n",
    "- Has properties such as temperature, volume, etc\n",
    "\n",
    "#### Across the boundary:####\n",
    "System|Energy|Mass\n",
    ":---:|:---:|:---:\n",
    "Open|Yes|Yes\n",
    "Closed|Yes|No\n",
    "Isolated|No|No"
   ]
  },
  {
   "cell_type": "markdown",
   "metadata": {},
   "source": [
    "### First Law of Thermodynamics ###\n",
    "- the variation of energy of a system($\\Delta E$) between the initial($E_1$) and final($E_2$) states is given by heat transferred(Q) into the system minus the work done(W) by the system\n",
    "\n",
    "$$\\Delta E = \\Delta K.E + \\Delta P.E + \\Delta U = E_2 - E_1 = Q - W$$\n",
    "\n",
    "$$d E = \\delta Q - \\delta W\\Rightarrow \\mathrm{NOT} \\ dE = dQ-dW$$\n",
    "\n",
    "- work is positive when system does work on the surroundings\n",
    "- heat is positive when it goes into the system"
   ]
  },
  {
   "cell_type": "markdown",
   "metadata": {},
   "source": [
    "### Heat Transfer ###\n",
    "- Heat is transferred from hot to cold"
   ]
  },
  {
   "cell_type": "markdown",
   "metadata": {},
   "source": [
    "#### Radiation ####\n",
    "\n",
    "- is the transfer of heat by electromagnetic radiation. It does not require a medium to propagate and can act through vacuum\n",
    "\n",
    "##### Stefan-Boltzmann's Law#####\n",
    "\n",
    "$$Q\\cdot = -\\epsilon \\ \\sigma \\ A(T^{4} - T_{surr}^{4})$$\n",
    "\n",
    "- $Q\\cdot$ = rate of heat transfer (W)\n",
    "- $\\epsilon$ = radiation property of the surface = emissivity (0 < $\\epsilon$ < 1)\n",
    "- $\\sigma$ = Stefan- Boltzmann constant = $5.67 \\times 10^{-8} \\ \\mathrm{W \\ m^{-2} \\ K^{-4}}$\n",
    "- $A$  = heat transfer area ($\\mathrm{m}^2$)\n",
    "- $T$ = temperature of system (K)\n",
    "- $T_{surr}$ = temperature of surroundings (K)\n",
    "\n"
   ]
  },
  {
   "cell_type": "markdown",
   "metadata": {},
   "source": [
    "#### Convection ####\n",
    "\n",
    "- is the energy transfer due to diffusion and bulk movement of fluid. It occurs between a surface and an adjacent fluid in motion when the two are at different temperatures\n",
    "\n",
    "##### Newton's Law of Cooling\n",
    "\n",
    "$$Q\\cdot = -h \\ A(T - T_{surr})$$\n",
    "\n",
    "- $Q\\cdot$ = rate of heat transfer (W)\n",
    "- $h$ = heat transfer coefficient ($\\mathrm{W \\ m^{-2} \\ K^{-1}}$)\n",
    "- $A$ = heat transfer area ($\\mathrm{m}^{2}$)\n",
    "\n",
    "##### Forced convection #####\n",
    "\n",
    "Fluid movement caused by an external device, ie. fan, pump etc.\n",
    "\n",
    "##### Free/natural convection #####\n",
    "\n",
    "Fluid movement is due to buoyancy effects that arise from the difference in density due to temperature variations in the fluid\n",
    "\n",
    "##### Heat transfer coefficient, h #####\n",
    "- empirical parameter\n",
    "- indication to the flow pattern near the surface, fluid properties and geometry\n",
    "- value of coefficient is generally greater for forced convection compared to natural convection\n"
   ]
  },
  {
   "cell_type": "markdown",
   "metadata": {},
   "source": [
    "#### Conduction####\n",
    "\n",
    "- is the transfer of energy from more energetic particles to adjacent, less energetic particles via interactions between particles. Requires a medium.\n",
    "\n",
    "##### Fourier's Law####\n",
    "\n",
    "$$Q\\cdot = -\\kappa \\ A \\frac{dT}{dx}$$\n",
    "\n",
    "- $Q\\cdot$ = rate of heat transfer (W)\n",
    "- $\\kappa$ = thermal conductivity ($\\mathrm{W \\ m^{-1} \\ K^{-1}}$)\n",
    "- $A$ = heat transfer area ($\\mathrm{m}^{2}$)\n",
    "- $\\frac{dT}{dx}$ = temperature gradient in the x direction ($\\mathrm{K \\ m^{-1}}$)\n",
    "\n",
    "If temperature varies linearly (steady-state condition), then\n",
    "\n",
    "$$Q\\cdot = -\\kappa \\ A \\frac{\\Delta T}{L}$$"
   ]
  },
  {
   "cell_type": "markdown",
   "metadata": {},
   "source": [
    "#### Thermal resistance (only for conduction and convection) ####\n",
    "\n",
    "##### Conduction #####\n",
    "\n",
    "$$ R_{T, conduction} = \\frac{T_1 - T_2}{Q\\cdot} = \\frac{L}{\\kappa A}$$\n",
    "\n",
    "##### Convection #####\n",
    "\n",
    "$$ R_{T, convection} = \\frac{T - T_S}{Q\\cdot} = \\frac{1}{h \\ A}$$\n"
   ]
  },
  {
   "cell_type": "markdown",
   "metadata": {},
   "source": [
    "### Heat balance###"
   ]
  },
  {
   "cell_type": "markdown",
   "metadata": {},
   "source": [
    "- energy conservation \n",
    "\n",
    "$$E\\cdot_{in} + E\\cdot_{generated} -  \\ \\mid E\\cdot_{out}\\mid \\ = E\\cdot_{stored}$$\n",
    "\n",
    "- Surface energy balance\n",
    "\n",
    "$$E\\cdot_{in}- \\mid E\\cdot_{out} \\mid \\ = 0$$\n",
    "\n",
    "$$Q\\cdot_{conduction} - Q\\cdot_{convection} - Q\\cdot_{radiation} = 0$$"
   ]
  },
  {
   "cell_type": "markdown",
   "metadata": {
    "collapsed": true
   },
   "source": [
    "## <span style=\"color:#879cc1\">Week 2</span> ##"
   ]
  },
  {
   "cell_type": "markdown",
   "metadata": {},
   "source": [
    "### Limitations of the first Law\n",
    "\n",
    "- no restriction on the direction of flow of heat. Does not indicate where heat can flow\n",
    "\n",
    "- does not specify feasibility of reaction\n",
    "\n",
    "- first law does not allow us to predict the maximum efficiency of conversion of heat to work\n"
   ]
  },
  {
   "cell_type": "markdown",
   "metadata": {},
   "source": [
    "### Second Law of Thermodynamics ###\n",
    "\n",
    "- The total entropy of an isolated system always increases over time, or remains constant in ideal cases when the system is undergoing a reversible process\n",
    "    - It is impossible for any system to operate in a way that entropy is destroyed"
   ]
  },
  {
   "cell_type": "markdown",
   "metadata": {},
   "source": [
    "### Entropy ###\n",
    "\n",
    "- is an extensive property\n",
    "    - state function(only dependent on initial and final states)\n",
    "    - extensive - the entropy of two systems is the sum of entropy of each system\n",
    "    \n",
    "$$\\Delta S_{total}=\\Delta S_{surr}+\\Delta S_{sys}$$\n",
    "\n",
    "#### Irreversible process\n",
    "- if the system and all parts of its surroundings cannot be exactly restored to their respective initial states after the process has occurred\n",
    "- energy is conserved but total entropy increases\n",
    "\n",
    "##### External irreversibility:\n",
    "- associated with dissipating effects outside the working fluid\n",
    "    - eg. nechanical friction due to external source\n",
    "\n",
    "##### Internal irreversibility\n",
    "- associated with dissipating effects within the working fluid\n",
    "    - eg. unrestricted expansion of gas, viscosity,etc\n",
    "    \n",
    "##### For a irreversible process\n",
    "$$\\Delta S = \\frac{\\Delta Q}{T}$$\n",
    "\n",
    "-where T is the temperature of the body\n",
    "\n",
    "#### Reversible process\n",
    "- if both the system and surroundings can be returned to their initial states\n",
    "- both energy and total entropy is conserved\n",
    "\n",
    "#### For a reversible process\n",
    "$$\\Delta S = \\int(\\frac{\\delta Q}{T})_{rev}$$\n",
    "\n",
    "#### Change in entropy of a system \n",
    "$$\\Delta S_{total} = \\Delta S_{sur} + \\Delta_{sys} \\begin{cases}\n",
    "      > 0, & \\text{irreversible process} \\\\\n",
    "      =0 , & \\text{reversible process} \\\\\n",
    "      <0 & \\text{never}\n",
    "    \\end{cases}$$\n",
    " \n",
    "$$\\Delta S = \\int(\\frac{\\delta Q}{T})_{rev} + \\sigma_{gen}$$\n",
    " \n",
    "- $\\sigma_{gen}$ is the entropy generated and is *not* a state function"
   ]
  },
  {
   "cell_type": "markdown",
   "metadata": {},
   "source": [
    "## <span style=\"color:#879cc1\">Week 3</span> ##"
   ]
  },
  {
   "cell_type": "markdown",
   "metadata": {},
   "source": [
    "### Ideal Gases ###\n",
    "\n",
    "- **Isothermal**: Constant T and reversible process\n",
    "- **Isochoric**: Constant V and reversible process\n",
    "- **Isobaric**: Constant P and reversible process\n",
    "- **Adiabatic**: Reversible process with no heat transfer across the boundary\n",
    "\n",
    "\n",
    "#### Ideal gas law\n",
    "\n",
    "$$PV = nRT = mrT$$\n",
    "\n",
    "- P: pressure(Pa)\n",
    "- V: Volume($m^3$)\n",
    "- n: number of moles(mol)\n",
    "- R: Ideal gas constant $=8.314 \\mathrm{J \\ mol.K}$\n",
    "- T: temperature(K)\n",
    "- m: mass\n",
    "- r: gas constant($\\frac{J}{g.K}$) \n",
    "<br/>\n",
    "<br/>\n",
    "<br/>\n",
    "$$PV = Nk_b T$$\n",
    "\n",
    "- N: number of atoms\n",
    "- $k_b$: Boltzmann constant $=\\frac{R}{N_A} = 1.38\\times 10^{-23} \\mathrm{J/K}$\n",
    "- $N_A$: Avogadro's number $6.02\\times 10^{23}$\n",
    "<br/>\n",
    "<br/>\n",
    "<br/>\n",
    "1. Boyle's Law (if T is constant)\n",
    "<br/>\n",
    "<br/>\n",
    "$$PV = \\mathrm{constant}$$\n",
    "<br/>\n",
    "<br/>\n",
    "2. Gay- Lussac's Law (if V is constant)\n",
    "<br/>\n",
    "<br/>\n",
    "$$\\frac{P}{T} = \\mathrm{constant}$$\n",
    "<br/>\n",
    "<br/>\n",
    "3. Charles Law (if P is constant)\n",
    "<br/>\n",
    "<br/>\n",
    "$$\\frac{V}{T} = \\mathrm{constant}$$\n",
    "<br/>\n",
    "<br/>\n",
    "4. Avogadro's Law\n",
    "<br/>\n",
    "<br/>\n",
    "$$\\frac{V}{n} = \\mathrm{constant}$$\n",
    "\n",
    "\n",
    "#### Heat Capacity\n",
    "\n",
    "- is the amount of heat required to increase the system's temperature by 1K. Generally,\n",
    "<br/>\n",
    "<br/>\n",
    "$$ C = \\frac{\\delta Q}{\\delta T}$$\n",
    "<br/>\n",
    "<br/>\n",
    "- At constant volume ($W = 0 \\therefore \\Delta U = Q$):\n",
    "<br/>\n",
    "<br/>\n",
    "$$C_{v} = \\left( \\frac{\\delta Q}{dT} \\right)_V = \\left( \\frac{\\partial U}{\\partial T} \\right)_V$$\n",
    "<br/>\n",
    "<br/>\n",
    "- At constant pressure\n",
    "<br/>\n",
    "<br/>\n",
    "$$C_p = \\left(\\frac{\\delta Q}{dT} \\right)_p$$\n",
    "<br/>\n",
    "<br/>\n",
    "$$C_p = C_v + nR = C_v + mr \\rightarrow \\mathrm{for \\ ideal \\ gas}$$\n",
    "<br/>\n",
    "<br/>\n",
    "- Given the same amount of heat, a isochoric system will have a higher change in temperature comparared to an isobaric system as some heat is converted into work for the isobaric system\n",
    "\n",
    "#### Internal energy U\n",
    "\n",
    "- often a function of temperature and volume, $U(T,V)$:\n",
    "<br/>\n",
    "<br/>\n",
    "$$C_v(T.V) = \\left( \\frac{\\partial U}{\\partial T} \\right)$$\n",
    "<br/>\n",
    "<br/>\n",
    "- Generally\n",
    "<br/>\n",
    "<br/>\n",
    "$$\\Delta U(T,V) = \\int^{T_2}_{T_1}C_v (T,V) dT$$\n",
    "<br/>\n",
    "<br/>\n",
    "- if $C_v$ is independent of T, \n",
    "<br/>\n",
    "<br/>\n",
    "$$ \\Delta U = C_v \\Delta T$$\n",
    "\n",
    "#### Enthalpy(H)\n",
    "\n",
    "- is a state function\n",
    "<br/>\n",
    "<br/>\n",
    "$$H = U + PV$$\n",
    "<br/>\n",
    "<br/>\n",
    "For an ideal gas, \n",
    "$$dH = C_p \\ dT$$\n",
    "\n",
    "#### Entropy of ideal gas\n",
    "\n",
    "$$dU = T \\ dS - P \\ dV$$\n",
    "\n",
    "$$dS = C_v \\frac{dT}{T} + nR\\frac{dV}{V}$$\n",
    "\n",
    "$$\\Delta S = C_p \\ln \\left( \\frac{T_2}{T_1} \\right) - nR \\ln \\left( \\frac{P_2}{P_1} \\right)$$\n",
    "\n",
    "\n",
    "#### Reversible vs irreversible\n",
    "\n",
    "- for a reversible process to occur the process must be slow enough to maintain thermal equilibrium between the system and its surroundings\n",
    "\n",
    "#### Free expansion\n",
    "\n",
    "- system is perfectly insulated such that there is no exchange in energy and matter\n",
    "- neither work is done nor heat is absorbed/transmitted $\\Rightarrow$ there is no change in internal energy and temperature of system\n",
    "- is irreversible\n",
    "\n",
    "$$\\Delta S_{total} = \\Delta S_{isolated} = C_v \\ln \\left( \\frac{T_2}{T_1} \\right) - nR \\ln \\left( \\frac{V_2}{V_1} \\right)$$\n",
    "<br/>\n",
    "<br/>\n",
    "$$\\Delta S_{isolated} = C_v \\ln \\left( \\frac{T_1}{T_1} \\right) - nR \\ln \\left( \\frac{2V_1}{V_1} \\right) = nR \\ln (2) > 0 \\Rightarrow \\mathrm{irreversible}$$\n"
   ]
  },
  {
   "cell_type": "markdown",
   "metadata": {},
   "source": [
    "### Open systems ###\n",
    "\n",
    "- Mass flow rate $m \\cdot$\n",
    "$$m\\cdot = \\frac{dm}{dt} = \\rho V\\cdot = \\rho AV$$\n",
    "\n",
    "- specific volume \n",
    "$$ v = \\frac{1}{\\rho}$$\n",
    "\n",
    "- Conservation of energy\n",
    "$$ \\Delta E\\cdot _{system} = Q\\cdot - W\\cdot + \\mathrm{rate \\ of \\ energy \\ transfer}$$\n",
    "\n",
    "\n",
    "##### Nozzle\n",
    "- flow passage of varying cross sectional area in which the velocity of a gas or liquid increases in the direction of flow\n",
    "\n",
    "##### Diffuser\n",
    "- Gas or liquid decelerates in the direction of flow\n",
    "\n",
    "##### Turbine\n",
    "- device in which power is developed as a result of a gas or liquid passing through a set of blades attached to a shaft free to rotate\n",
    "\n",
    "- KE and PE of the flowing streams can usually be ignored\n",
    "\n",
    "- $Q\\cdot_{cv} \\approx 0$\n",
    "\n",
    "##### Compressors/pumps\n",
    "- devices in which woork is done on the substance flowing through them in order to change the state of the substance, typically to increase the pressure and or elevation\n",
    "\n",
    "##### Heat exchanger\n",
    "- device used to transfer heat between one or more fluids\n",
    "- $W_{cv} = 0$\n",
    "- KE and PE of the flowing streams can usually be ignored\n",
    "\n",
    "\n",
    "#### Table A22\n",
    "\n",
    "$$s(T_2,P_2) - s(T_1,P_1) = s^{\\circ} (T_2,1 \\ atm)-s^{\\circ}(T_1,1 \\ atm) - r\\ln \\frac{P_2}{P_1}$$\n",
    "\n",
    "- $s^{\\circ}$: standard state entropy\n",
    "\n",
    "#### Table A23\n",
    "\n",
    "$$s(T_2,P_2) - s(T_1,P_1) = s^{\\circ} (T_2,1 \\ atm)-s^{\\circ}(T_1,1 \\ atm) - R\\ln \\frac{P_2}{P_1}$$"
   ]
  },
  {
   "cell_type": "markdown",
   "metadata": {},
   "source": [
    "## <span style=\"color:#879cc1\">Week 4</span> ##"
   ]
  },
  {
   "cell_type": "markdown",
   "metadata": {},
   "source": [
    "### Thermoelectric generator ###"
   ]
  },
  {
   "cell_type": "markdown",
   "metadata": {},
   "source": [
    "## <span style=\"color:#879cc1\">Week 5</span> ##"
   ]
  },
  {
   "cell_type": "markdown",
   "metadata": {},
   "source": [
    "### Thermoelectric cooler###"
   ]
  },
  {
   "cell_type": "markdown",
   "metadata": {},
   "source": [
    "## <span style=\"color:#879cc1\">Week 6</span> ##"
   ]
  },
  {
   "cell_type": "code",
   "execution_count": null,
   "metadata": {
    "collapsed": true
   },
   "outputs": [],
   "source": []
  }
 ],
 "metadata": {
  "kernelspec": {
   "display_name": "Python 3",
   "language": "python",
   "name": "python3"
  },
  "language_info": {
   "codemirror_mode": {
    "name": "ipython",
    "version": 3
   },
   "file_extension": ".py",
   "mimetype": "text/x-python",
   "name": "python",
   "nbconvert_exporter": "python",
   "pygments_lexer": "ipython3",
   "version": "3.6.3"
  }
 },
 "nbformat": 4,
 "nbformat_minor": 2
}
