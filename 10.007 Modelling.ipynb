{
 "cells": [
  {
   "cell_type": "markdown",
   "metadata": {
    "collapsed": true
   },
   "source": [
    "# Linear Algebra #"
   ]
  },
  {
   "cell_type": "markdown",
   "metadata": {},
   "source": [
    "- Finding solutions to systems of linear equations\n",
    "- A linear system of $m$ equations in $n$ unknowns $(x_{1},x_{2},...,x_{n})$ can be written as\n",
    "\n",
    "$$a_{11}x_{1} + a_{12}x_{2}+...+a_{1n}x_{n}=b_{1}$$\n",
    "$$a_{21}x_{1} + a_{22}x_{2}+...+a_{2n}x_{n}=b_{2}$$\n",
    "$$\\cdot$$\n",
    "$$\\cdot$$\n",
    "$$\\cdot$$\n",
    "$$a_{m1}x_{1} + a_{m2}x_{2}+...+a_{mn}x_{n}=b_{m}$$\n",
    "\n",
    "- each equation can be written as\n",
    "\n",
    "$$\\vec{a}_{i}\\cdot\\vec{x}_{i} = b_{i}$$\n",
    "\n",
    "where $\\vec{a}_{i} =\n",
    "\\left[\n",
    "\\begin{array}{c}\n",
    "a_{i1}\\\\\n",
    "a_{i2}\\\\\n",
    "\\cdot\\\\\n",
    "\\cdot\\\\\n",
    "\\cdot\\\\\n",
    "a_{in}\\\\\n",
    "\\end{array}\n",
    "\\right]$ , $\\vec{x} =\n",
    "\\left[\n",
    "\\begin{array}{c}\n",
    "x_{1}\\\\\n",
    "x_{2}\\\\\n",
    "\\cdot\\\\\n",
    "\\cdot\\\\\n",
    "\\cdot\\\\\n",
    "x_{n}\\\\\n",
    "\\end{array}\n",
    "\\right]$ and $\\vec{b} =\n",
    "\\left[\n",
    "\\begin{array}{c}\n",
    "b_{1}\\\\\n",
    "b_{2}\\\\\n",
    "\\cdot\\\\\n",
    "\\cdot\\\\\n",
    "\\cdot\\\\\n",
    "b_{m}\\\\\n",
    "\\end{array}\n",
    "\\right]$\n",
    "\n",
    "By stacking the column vectors $\\vec{a}_i$ together, we have\n",
    "\n",
    "$$A\\vec{x} = \\vec{b}$$\n"
   ]
  },
  {
   "cell_type": "markdown",
   "metadata": {},
   "source": [
    "### Types of linear systems ###\n",
    "\n",
    "##### Definition #####\n",
    "- a linear system is *consistent* if it has at least one solution, otherwise it has no solutions and is called *inconsistent*\n",
    "- a linear system is *non-singular* if it has a unique solution, otherwise it is called *singular*"
   ]
  },
  {
   "cell_type": "markdown",
   "metadata": {},
   "source": [
    "## Vectors ##"
   ]
  },
  {
   "cell_type": "markdown",
   "metadata": {},
   "source": [
    "#### Dot product ####\n",
    "\n",
    "$$\\vec{u} \\cdot \\vec{v} = u_{1}v_{1} + u_{2}v_{2} + ... + u_{n}v_{n} = ||\\vec{u}|| \\ || \\vec{v}|| \\cos\\theta$$\n",
    "\n",
    "#### Length/norm ####\n",
    "\n",
    "$$||\\vec{v}|| = \\sqrt{v_{1}^{2}+ v_{2}^{2}+...+v_{n}^{2}} = \\sqrt{\\vec{v} \\cdot \\vec{v}}$$\n",
    "\n",
    "- **Cauchy-Schwarz inequality**\n",
    "\n",
    "$$\\mid \\vec{u}\\cdot\\vec{v}\\mid \\ \\le \\ ||\\vec{u}|| \\ ||\\vec{v}||, \\forall \\ \\vec{u}, \\ \\vec{v} \\in \\mathbb{R}^{n}$$\n",
    "\n",
    "- **Triangle inequality**\n",
    "\n",
    "$$\\mid \\vec{u}+\\vec{v}\\mid \\ \\le ||\\vec{u}|| \\ ||\\vec{v}||, \\ \\forall \\ \\vec{u},\\vec{v} \\in \\mathbb{R}^{n}$$\n",
    "\n",
    "\n",
    "#### Plane ####\n",
    "\n",
    "$$ax+by+cz=d$$\n",
    "\n",
    "\n",
    "- where $\\vec{n} = \n",
    "\\left[\n",
    "\\begin{array}{c}\n",
    "a\\\\\n",
    "b\\\\\n",
    "c\\\\\n",
    "\\end{array}\n",
    "\\right] \n",
    "$ is a normal vector to the plane\n",
    "\n",
    "\n",
    "- $d = ax_{p} + by_{p} + cz_{p}$, where $(x_{p}, y_{p},z_{p})$ is any given point on the plane\n",
    "\n",
    "\n",
    "- with $\\vec{w} = \n",
    "\\left[\n",
    "\\begin{array}{c}\n",
    "x\\\\\n",
    "y\\\\\n",
    "z\\\\\n",
    "\\end{array}\n",
    "\\right] \n",
    "$, the equation can be written as $\\vec{n}\\cdot\\vec{w}=d$                  "
   ]
  },
  {
   "cell_type": "markdown",
   "metadata": {},
   "source": [
    "#### Cross product ####\n",
    "\n",
    "For $\\vec{u} = \n",
    "\\left[\n",
    "\\begin{array}{c}\n",
    "u_{1}\\\\\n",
    "u_{2}\\\\\n",
    "u_{3}\\\\\n",
    "\\end{array}\n",
    "\\right] \n",
    "\\ and \\ \n",
    "\\vec{v} = \n",
    "\\left[\n",
    "\\begin{array}{c}\n",
    "v_{1}\\\\\n",
    "v_{2}\\\\\n",
    "v_{3}\\\\\n",
    "\\end{array}\n",
    "\\right]$\n",
    "\n",
    "\n",
    "$$\\vec{u}\\times\\vec{v} =  \n",
    "\\left[\n",
    "\\begin{array}{c}\n",
    "u_{2}v_{3}-u_{3}v_{2}\\\\\n",
    "u_{3}v_{1}-u_{1}v_{3}\\\\\n",
    "u_{1}v_{2}-u_{2}v_{1}\\\\\n",
    "\\end{array}\n",
    "\\right] = ||\\vec{u}||||\\vec{v}||\\sin\\theta$$\n",
    "\n",
    "- $\\vec{u}\\times\\vec{v}$ is perpendicular to both $\\vec{u}$ and $\\vec{v}$ and points in the direction given by the right hand rule\n",
    "\n",
    "\n"
   ]
  },
  {
   "cell_type": "markdown",
   "metadata": {},
   "source": [
    "## Matrices ##"
   ]
  },
  {
   "cell_type": "markdown",
   "metadata": {},
   "source": [
    "#### Multiplication ####\n",
    "$$X\n",
    "\\left[\n",
    "\\begin{array}{cc}\n",
    "a & b\\\\\n",
    "c & d\\\\\n",
    "\\end{array}\n",
    "\\right] = \n",
    "\\left[\n",
    "\\begin{array}{cc}\n",
    "Xa & Xb\\\\\n",
    "Xc & Xd\\\\\n",
    "\\end{array}\n",
    "\\right]$$\n",
    "- where X is a scalar\n",
    "\n",
    "$$\\left[\n",
    "\\begin{array}{ccc}\n",
    "a_{1} & a_{2} & a_{3}\\\\\n",
    "b_{1} & b_{2} & b_{3}\\\\\n",
    "\\end{array}\n",
    "\\right]\\times \n",
    "\\left[\n",
    "\\begin{array}{cc}\n",
    "c_{1} & d_{1}\\\\\n",
    "c_{2} & d_{2}\\\\\n",
    "c_{3} & d_{3}\\\\\n",
    "\\end{array}\n",
    "\\right] = \\left[\n",
    "\\begin{array}{cc}\n",
    "a_{1}c_{1}+a_{2}c_{2}+a_{3}c_{3} & a_{1}d_{1}+a_{2}d_{2}+d_{3}d_{3}\\\\\n",
    "b_{1}c_{1}+b_{2}c_{2}+b_{3}c_{3} & b_{1}d_{1}+b_{2}d_{2}+b_{3}d_{3} \\\\\n",
    "\\end{array}\n",
    "\\right]$$\n",
    "\n",
    "- multiplying a $m\\times n$ matrix by a $n \\times m$ matrix yields a $m \\times m$ matrix\n"
   ]
  },
  {
   "cell_type": "markdown",
   "metadata": {},
   "source": [
    "#### Identity Matrix $\\rightarrow$ the \"1\" of matrices ####\n",
    "$$I_{1} = 1, \\ I_{2} = \n",
    "\\left[\n",
    "\\begin{array}{cc}\n",
    "1 & 0\\\\\n",
    "0 & 1\\\\\n",
    "\\end{array}\n",
    "\\right], \\ \n",
    "I_{n} =\n",
    "\\left[\n",
    "\\begin{array}{ccccccc}\n",
    "1 & 0 & 0 & \\cdot & \\cdot & \\cdot & 0\\\\\n",
    "0 & 1 & 0 & \\cdot & \\cdot & \\cdot & 0\\\\\n",
    "0 & 0 & 1 & \\cdot & \\cdot & \\cdot & 0\\\\\n",
    "\\cdot & \\cdot & \\cdot & \\cdot & \\cdot & \\cdot & \\cdot\\\\\n",
    "\\cdot & \\cdot & \\cdot & \\cdot & \\cdot & \\cdot & \\cdot\\\\\n",
    "\\cdot & \\cdot & \\cdot & \\cdot & \\cdot & \\cdot & \\cdot\\\\\n",
    "0 & 0 & 0 & \\cdot & \\cdot & \\cdot & 1\\\\\n",
    "\\end{array}\n",
    "\\right]$$\n",
    "- for a $m\\times n$ matrix $A$, $I_{m} \\ A = AI_{n} = A$"
   ]
  },
  {
   "cell_type": "markdown",
   "metadata": {
    "collapsed": true
   },
   "source": [
    "#### Determinants ####\n",
    "\n",
    "##### $2\\times 2$ matrix #####\n",
    "\n",
    "$A = \n",
    "\\left[\n",
    "\\begin{array}{cc}\n",
    "a & b\\\\\n",
    "c & d\\\\\n",
    "\\end{array}\n",
    "\\right]$, $\\mid \\ A \\mid = \\left|\n",
    "\\begin{array}{cc}\n",
    "a & b\\\\\n",
    "c & d\\\\\n",
    "\\end{array}\n",
    "\\right| \\equiv ad-bc$\n",
    "\n",
    "##### $3\\times 3$ matrix #####\n"
   ]
  },
  {
   "cell_type": "markdown",
   "metadata": {},
   "source": [
    "#### Inverse Matrix ####\n",
    "- The inverse matrix $A^{-1}$ of a matrix $A$ is the matrix $B$ for which $BA = AB = I$ is fulfilled"
   ]
  },
  {
   "cell_type": "code",
   "execution_count": null,
   "metadata": {
    "collapsed": true
   },
   "outputs": [],
   "source": []
  }
 ],
 "metadata": {
  "kernelspec": {
   "display_name": "Python 3",
   "language": "python",
   "name": "python3"
  },
  "language_info": {
   "codemirror_mode": {
    "name": "ipython",
    "version": 3
   },
   "file_extension": ".py",
   "mimetype": "text/x-python",
   "name": "python",
   "nbconvert_exporter": "python",
   "pygments_lexer": "ipython3",
   "version": "3.6.3"
  }
 },
 "nbformat": 4,
 "nbformat_minor": 2
}
