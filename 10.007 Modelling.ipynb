{
 "cells": [
  {
   "cell_type": "markdown",
   "metadata": {
    "collapsed": true
   },
   "source": [
    "# Linear Algebra #"
   ]
  },
  {
   "cell_type": "markdown",
   "metadata": {},
   "source": [
    "- Finding soloutions to systems of linear equations\n",
    "\n",
    "$$A\\vec{x} = \\vec{b}$$\n",
    "\n",
    "### Vectors ###"
   ]
  },
  {
   "cell_type": "markdown",
   "metadata": {},
   "source": [
    "#### Dot product ####\n",
    "\n",
    "$$\\vec{u} \\cdot \\vec{v} = u_{1}v_{1} + u_{2}v_{2} + ... + u_{n}v_{n} = ||\\vec{u}|| \\ || \\vec{v}|| \\cos\\theta$$\n",
    "\n",
    "#### Length/norm ####\n",
    "\n",
    "$$||\\vec{v}|| = \\sqrt{v_{1}^{2}+ v_{2}^{2}+...+v_{n}^{2}} = \\sqrt{\\vec{v} \\cdot \\vec{v}}$$\n",
    "\n",
    "- **Cauchy-Schwarz inequality**\n",
    "\n",
    "$$\\mid \\vec{u}\\cdot\\vec{v}\\mid \\ \\le \\ ||\\vec{u}|| \\ ||\\vec{v}||, \\forall \\ \\vec{u}, \\ \\vec{v} \\in \\mathbb{R}^{n}$$\n",
    "\n",
    "- **Triangle inequality**\n",
    "\n",
    "$$\\mid \\vec{u}+\\vec{v}\\mid \\ \\le ||\\vec{u}|| \\ ||\\vec{v}||, \\ \\forall \\ \\vec{u},\\vec{v} \\in \\mathbb{R}^{n}$$\n",
    "\n",
    "\n",
    "#### Plane ####\n",
    "\n",
    "$$ax+by+cz=d$$\n",
    "\n",
    "- where $\\vec{n} = \n",
    "\\left[\n",
    "\\begin{array}{c}\n",
    "a\\\\\n",
    "b\\\\\n",
    "c\\\\\n",
    "\\end{array}\n",
    "\\right] \n",
    "$ is a normal vector to the plane\n",
    "\n",
    "\n",
    "- $d = ax_{p} + by_{p} + cz_{p}$, where $(x_{p}, y_{p},z_{p})$ is any given point on the plane\n",
    "\n",
    "\n",
    "- with $\\vec{w} = \n",
    "\\left[\n",
    "\\begin{array}{c}\n",
    "a\\\\\n",
    "b\\\\\n",
    "c\\\\\n",
    "\\end{array}\n",
    "\\right] \n",
    "$, the equation can be written as $\\vec{n}\\cdot\\vec{w}=d$                  "
   ]
  },
  {
   "cell_type": "markdown",
   "metadata": {},
   "source": [
    "#### Cross product ####\n",
    "\n",
    "For $\\vec{u} = \n",
    "\\left[\n",
    "\\begin{array}{c}\n",
    "u_{1}\\\\\n",
    "u_{2}\\\\\n",
    "u_{3}\\\\\n",
    "\\end{array}\n",
    "\\right] \n",
    "\\ and \\ \n",
    "\\vec{v} = \n",
    "\\left[\n",
    "\\begin{array}{c}\n",
    "v_{1}\\\\\n",
    "v_{2}\\\\\n",
    "v_{3}\\\\\n",
    "\\end{array}\n",
    "\\right]$\n",
    "\n",
    "\n",
    "$$\\vec{u}\\times\\vec{v} =  \n",
    "\\left[\n",
    "\\begin{array}{c}\n",
    "u_{2}v_{3}-u_{3}v_{2}\\\\\n",
    "u_{3}v_{1}-u_{1}v_{3}\\\\\n",
    "u_{1}v_{2}-u_{2}v_{1}\\\\\n",
    "\\end{array}\n",
    "\\right] = ||\\vec{u}||||\\vec{v}||\\sin\\theta$$\n",
    "\n",
    "- $\\vec{u}\\times\\vec{v}$ is perpendicular to both $\\vec{u}$ and $\\vec{v}$ and points in the direction given by the right hand rule\n",
    "\n",
    "\n"
   ]
  },
  {
   "cell_type": "code",
   "execution_count": null,
   "metadata": {
    "collapsed": true
   },
   "outputs": [],
   "source": []
  }
 ],
 "metadata": {
  "kernelspec": {
   "display_name": "Python 3",
   "language": "python",
   "name": "python3"
  },
  "language_info": {
   "codemirror_mode": {
    "name": "ipython",
    "version": 3
   },
   "file_extension": ".py",
   "mimetype": "text/x-python",
   "name": "python",
   "nbconvert_exporter": "python",
   "pygments_lexer": "ipython3",
   "version": "3.6.3"
  }
 },
 "nbformat": 4,
 "nbformat_minor": 2
}
