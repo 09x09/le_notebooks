{
 "cells": [
  {
   "cell_type": "markdown",
   "metadata": {},
   "source": [
    "# <span style=\"color:#879cc1\">Classical models: old but gold</span> #\n",
    "#### Dalton's Atomic theory####\n",
    "- Every element is composed of tiny indestructible particles called atoms\n",
    "- All atoms of a given element have the same mass and other properties that distinguish them from atoms of other elements\n",
    "- Atoms combine in wole number ratios to form compounds\n",
    "\n",
    "#### Rutherford-Bohr Atomic Model ####\n",
    "- electrons orbit the nucleus in an atom\n",
    "- used to explain emission spectra\n",
    "- orbits are quantized\n",
    "- impossible for electron to exist between orbits\n",
    "\n",
    "##### Failure of this model #####\n",
    "- violates conservation of energy\n",
    "    - electrons are accelerated along the orbit $\\Rightarrow$ electron should continuously lose energy\n",
    "    - electron will spiral into the nucleus $\\Rightarrow$ atom would collapse\n",
    "- predicted hydrogen emmision spectra but not the other elements\n",
    "\n"
   ]
  },
  {
   "cell_type": "markdown",
   "metadata": {},
   "source": [
    "### Wave nature of matter###\n"
   ]
  },
  {
   "cell_type": "markdown",
   "metadata": {},
   "source": [
    "#### Waves ####\n",
    "All waves can be described by the following form\n",
    "\n",
    "$$\\frac{\\partial^{2}u}{\\partial {t^{2}}} = C^{2}\\frac{\\partial^{2} u}{\\partial x^{2}}$$\n",
    "\n",
    "where *u* is the displacement vector, *t* is time, *x* is position and C is a constant\n",
    "\n",
    "<img src=\"http://slideplayer.com/slide/5287993/17/images/10/Electromagnetic+Spectrum.jpg\" style= \"height: 300px;\" \"width: 300px;\" />"
   ]
  },
  {
   "cell_type": "markdown",
   "metadata": {},
   "source": [
    "#### Young's Double Slit ####\n",
    "\n",
    "Recap : $d \\sin\\theta = n\\lambda$\n",
    "\n",
    "<img src=\"https://upload.wikimedia.org/wikipedia/commons/thumb/c/cd/Double-slit.svg/1200px-Double-slit.svg.png\" style= \"height: 300px;\" \"width: 300px;\" />\n",
    "\n",
    "- interference similar to that observed for light is recorded when electrons are sent through a double slit\n",
    "- opposite of what one would expect for particles"
   ]
  },
  {
   "cell_type": "markdown",
   "metadata": {},
   "source": [
    "### Particulate nature of matter ###\n",
    "\n"
   ]
  },
  {
   "cell_type": "markdown",
   "metadata": {},
   "source": [
    "#### Atomic Spectra ####\n",
    "- Atoms of every element have a unique absorption/emission characteristic\n",
    "- Only specific transitions equivalent to the difference in discrete energy levels of the atoms are permissible"
   ]
  },
  {
   "cell_type": "markdown",
   "metadata": {},
   "source": [
    "#### Blackbody Radiation####\n",
    "\n",
    "- Hot objects emits electromagnetic radiation which shifts towards shorter wavelengths as temperature increases\n",
    "- An ideal blackbody absorbs and emits all radiation incident on it, regardless of frequency\n",
    "    - eg. cavity with a small hole\n",
    "\n",
    "##### Rayleigh-Jeans Law #####\n",
    "- all oscillators share equally in energy supplied by walls\n",
    "- predicts that even ccol objects should radiate in visible and UV regions\n",
    "- NO darkness\n",
    "\n",
    "$$B_{\\lambda} = \\frac{2ck_{B}T}{\\lambda^{4}}$$\n",
    "\n",
    "Where $B_{\\lambda}$ is the spectral radiance, $k_B$ is the boltzmann constant, and temperature is in Kelvins\n",
    "\n",
    "- We see that the energy intensity is asymptopic as $\\lambda$ approaches zero. This failure in the model is described as the *ultraviolet catastrophe*\n",
    "\n"
   ]
  },
  {
   "cell_type": "markdown",
   "metadata": {},
   "source": [
    "![alt text](http://farm4.static.flickr.com/3612/3346470005_543a193584.jpg)"
   ]
  },
  {
   "cell_type": "markdown",
   "metadata": {},
   "source": [
    "##### Planck's Law #####\n",
    "$$B_{\\lambda} = \\frac{2hc}{\\lambda^{5}}\\frac{1}{\\mathrm{e}^{\\frac{hc}{\\lambda k_{B} T}}-1}$$\n",
    "\n",
    "- Avoids the ultraviolet catastrophe by quantizing the electromagnetic energy emiited\n",
    "\n",
    "- reduces to Rayleigh-Jeans Law at higher wavelengths"
   ]
  },
  {
   "cell_type": "markdown",
   "metadata": {},
   "source": [
    " #### Photoelectric Effect ####\n",
    "\n",
    "- Is the ejection of electrons from the surface of a metal when light of sufficient energy is incident of it\n",
    "\n",
    "##### Failure of Classical Model #####\n",
    "###### Predictions######\n",
    "- If the intensity of the light is increased, electrons of higher energy should be ejected\n",
    "- If $\\lambda$ is shorter more electrons should be ejected\n",
    "\n",
    "###### Observations######\n",
    "- Below threshold frequency, no electrons are ejected no matter the intensity\n",
    "- Above threshold frequency, energy of ejected electrons is linearly dependent on light frequency and independent of intensity\n",
    "- At low intensities, electrons are immediately ejected when light above threshold frequency is incident on the metal\n",
    "\n",
    "##### Explaining the photoelectric effect #####\n",
    "- light consists of quanta called photons, where $E = h\\nu$\n",
    "- only when photon has sufficient energy then an electron will be ejected from the metal\n",
    "\n",
    "$$E_{max} = h\\nu - \\Phi = \\frac{1}{2}mv^2$$\n",
    "\n",
    "where $E_{max}$ is the maximum KE of the ejected electron, $\\Phi$ is the work function(ie binding energy of the electron to the nucleus)\n"
   ]
  },
  {
   "cell_type": "markdown",
   "metadata": {
    "collapsed": true
   },
   "source": [
    "#### Compton Scattering####"
   ]
  },
  {
   "cell_type": "markdown",
   "metadata": {},
   "source": [
    "![alt text](https://sites.google.com/site/puenggphysics/_/rsrc/1500628128421/home/unit-iv/compton-effect/Picture1.jpg)"
   ]
  },
  {
   "cell_type": "markdown",
   "metadata": {},
   "source": [
    "- the wavelength of the scattered photon is shifted by a value which is related to $\\phi$\n"
   ]
  },
  {
   "cell_type": "markdown",
   "metadata": {},
   "source": [
    "# <span style=\"color:#879cc1\">Quantum Mechanics: A better theory of nature</span>#\n",
    "\n"
   ]
  },
  {
   "cell_type": "markdown",
   "metadata": {},
   "source": [
    "#### De Broglie's relation:####\n",
    "$$\\lambda = \\frac{h}{\\vec{p}}$$\n",
    "where $h = 6.626 \\times 10^{-34} \\mathrm{J \\ s} $\n",
    "\n",
    "De Broglie's relation links the wavelength of a particle to its momentum. Under classical relativity, this relation can be expressed as:\n",
    "$$\\lambda=\\frac{h}{mv}$$"
   ]
  },
  {
   "cell_type": "markdown",
   "metadata": {},
   "source": [
    "#### Heisenberg's Uncertainty Principle ####\n",
    "$$\\Delta \\vec{x} \\Delta \\vec{p} \\geq \\frac{\\hbar}{2}$$\n",
    "where $\\hbar = \\frac{h}{2\\pi}$\n",
    "\n",
    "The Heisenberg Uncertainty Principle sets a fundamental limit on the precision at which we can determine pairs of complementary properties of a particle"
   ]
  },
  {
   "cell_type": "markdown",
   "metadata": {},
   "source": [
    "#### Orbitals ####\n",
    "- Probability distribution map of a region where a electron is likely to be found\n",
    "- Size, shape and orientation in spacce is described by 3 integer term in the wave function\n",
    "    - $n$: principal quantum number\n",
    "    - $l$: angular momentum quantum number\n",
    "    - $m_{l}$: magnetic quantum number\n",
    "    \n",
    "    \n",
    "- $m_{s} \\rightarrow$ describe magnetic property of electron (not from wavefunction)\n",
    "    - $m_{s} = \\frac{1}{2}\\rightarrow$ spin up\n",
    "    - $m_{s} = -\\frac{1}{2}\\rightarrow$ spin down\n",
    "    \n",
    "\n",
    "- each set of $n$,$l$ and $m_i$ identifies a specific quantum state of the atom\n",
    "\n",
    "- the restrictions on $l$ and $m_i$ give rise to $n^2$ sets of quantum numbers for every value of n\n",
    "\n",
    "- when $n>1$, the $n^2$ states correspond to the single energy level $E_n$(same energy). \n",
    "    - These states are said to be **degenerate**"
   ]
  },
  {
   "cell_type": "markdown",
   "metadata": {},
   "source": [
    "### Schrödinger's Equation $\\Psi(x,t)$ ###\n",
    "\n",
    "- $\\psi$ has no physical interpretation\n",
    "- Regions in space where wavefunction goes through zero as it changes sign are called nodes\n",
    "- Infinite number of solutions\n",
    "- Acceptable wavefunctions must satisfy the boundary and initial conditions\n",
    "\n",
    "#### Time independent####\n",
    "\n",
    "$$-\\frac{\\hbar^{2}}{2m}\\frac{d^{2}\\psi (x)}{d x^{2}}+V(x)\\psi(x) = E\\psi(x)$$\n",
    "\n",
    "- $V(x)$ is the potential energy of the system\n",
    "- $E(x)$ is the total energy of the particle\n",
    "\n",
    "\n",
    "- $\\frac{\\hbar^{2}d^{2}\\psi (x)}{d x^{2}}$ is $\\vec{p} \\ ^{2}$ of the particle $\\Rightarrow \\frac{\\hbar^{2}}{2m}\\frac{d^{2}\\psi (x)}{d x^{2}}$ is the kinetic energy of the particle\n",
    "\n",
    "\n",
    "##### Probability Density function #####\n",
    "The probability density function of a wavefunction is defined as\n",
    "\n",
    "$$P(x) = \\int_{\\infty}^{\\infty} \\mid {\\psi^{2}(x)} \\mid dx = \\int_{\\infty}^{\\infty} \\psi(x) \\ \\psi^{*}(x) \\ dx =1 \\ \\mathrm{(normalized)}$$\n",
    "\n",
    "- For 10.011 all you need to know is the probability of finding a particle at any region in space is given by $p(x)\\propto \\ \\mid \\psi^{2}(x) \\mid$\n",
    "\n"
   ]
  },
  {
   "cell_type": "markdown",
   "metadata": {
    "collapsed": true
   },
   "source": [
    "#### Free particle in zero potential####\n",
    "$\\because V=0 \\Rightarrow$ initial condition: 0 potential,\n",
    "\n",
    "$$ \\frac{\\hbar^{2}}{2m}\\frac{d^{2}\\psi (x)}{dx^{2}} \\ + \\ E\\psi (x) = 0$$\n",
    "\n",
    "Solving the differential equation:\n",
    "\n",
    "\n",
    "$$\\psi(x) = Ae^{ikx} + Be^{-ikx} = C \\cos kx + D \\sin kx$$\n",
    "\n",
    "\n",
    "where $k=\\frac{2\\pi\\sqrt{2mE}}{h} =\\frac{\\sqrt{2mE}}{\\hbar}$\n",
    "\n",
    "- Energy $E=\\frac{\\hbar^{2}k^{2}}{2m}$\n",
    "\n",
    "- therefore the particle has kinetic energy only"
   ]
  },
  {
   "cell_type": "markdown",
   "metadata": {},
   "source": [
    "#### Free particle in constant, non zero potential####\n",
    "$\\because V(x)$ is constant, let $V(x)=V$ and thus\n",
    "\n",
    "\n",
    "$$-\\frac{\\hbar^{2}}{2m}\\frac{d^{2}\\psi (x)}{d x^{2}}+V\\psi(x) = E\\psi(x)$$\n",
    "\n",
    "Solving,\n",
    "\n",
    "$$\\psi(x) = Ae^{ikx} + Be^{-ikx} = C \\cos kx + D \\sin kx$$\n",
    "\n",
    "\n",
    "where $k=\\frac{\\sqrt{2m(E-V)}}{\\hbar}$\n",
    "\n",
    "- Energy $E-V=\\frac{\\hbar^{2}k^{2}}{2m}$\n",
    "\n",
    "- $V\\uparrow, (E-V)\\downarrow, \\lambda \\uparrow$"
   ]
  },
  {
   "cell_type": "markdown",
   "metadata": {
    "collapsed": true
   },
   "source": [
    "#### 1D Particle in a box ####\n",
    "##### Infinite potential well #####\n",
    "<img src=\"http://www.nyu.edu/classes/tuckerman/adv.chem/lectures/lecture_6/img53.png\" style= \"height: 300px;\" \"width: 300px;\" />\n",
    "\n",
    "\n",
    "$\\psi = 0$ when $x\\le 0$ and $x \\ge a$ since the particle cannot be outside of the box.\n",
    "\n",
    "$$ \\frac{\\hbar^{2}}{2m}\\frac{d^{2}\\psi (x)}{dx^{2}} \\ + \\ E\\psi (x) = 0$$\n",
    "\n",
    "Solving,\n",
    "\n",
    "$$\\psi(x) = Ae^{ikx} + Be^{-ikx} = C \\cos kx + D \\sin kx$$\n",
    "\n",
    "where $k = =\\frac{\\sqrt{2mE}}{\\hbar}$\n",
    "\n",
    "Applying boundary conditions,\n",
    "1. $\\psi = 0$ at $x=0$\n",
    "    - $\\psi(x) = Ae^{ikx_{0}} + Be^{-ikx_{0}} = 0 $\n",
    "    - $A=-B$\n",
    "    \n",
    "   $$\\psi (x) = A(e^{ikx}-e^{-ikx})=2iA\\sin kx$$\n",
    "  <br/>\n",
    "  <br/>\n",
    "2. $\\psi (x) = 0$ at $x = a$\n",
    "    - $\\psi (x=a) = 2iA\\sin ka = 0$\n",
    "    \n",
    "   $$\\therefore \\ k = \\frac{n\\pi}{a}, \\ \\mathrm{where} \\ $n = 1,2,3...$$\n",
    "   \n",
    "\n",
    "- Energy $E_{n} = \\hbar \\omega = \\frac{n^{2}\\pi^{2}\\hbar^{2}}{2mL^{2}}, \\ n \\ge 1$\n",
    "   \n",
    "   \n",
    "\n",
    "<img src = \"https://upload.wikimedia.org/wikipedia/commons/thumb/8/8f/InfiniteSquareWellAnimation.gif/200px-InfiniteSquareWellAnimation.gif\" style = \"width:300px;\" \"height:300px;\"/>"
   ]
  },
  {
   "cell_type": "markdown",
   "metadata": {
    "collapsed": true
   },
   "source": [
    "### Schrödinger's Equation for orbitals $\\Psi(r,\\theta,\\phi)$ ###\n",
    "\n"
   ]
  },
  {
   "cell_type": "markdown",
   "metadata": {},
   "source": [
    "##### Spherical coordinates #####\n",
    "$$x = r\\sin\\theta\\cos\\phi$$\n",
    "$$y = r\\sin\\theta\\sin\\phi$$\n",
    "$$z = r\\cos\\theta$$\n",
    "\n",
    "###### Angular momentum, L######\n",
    "$$L = \\sqrt{l(l+1)}\\hbar$$\n",
    "$$L^{2} = l(l+1)\\hbar^{2}$$\n",
    "$$L_{z}=m_{l}\\hbar$$"
   ]
  },
  {
   "cell_type": "markdown",
   "metadata": {},
   "source": [
    "#### Back to $\\Psi$####\n",
    "- for each quantum state($n,l,m_l$), there is a unique solution $\\Psi_{nlm}$\n",
    "- by separation of variables, $\\Psi_{nlm}$ can be separated into radial(R) and angular(Y) components\n",
    "    - $\\Psi(r,\\theta,\\phi) = R_{nl}(r)\\cdot Y_{lm}(\\theta, \\phi)$\n",
    "    <br/>\n",
    "    <br/>\n",
    "    - $\\Psi^{2} \\ dV = [R_{nl}]^{2}\\cdot[Y_{lm}]^{2}dV = r^{2}[R_{nl}]^{2}\\cdot[Y_{lm}]^{2}\\sin\\theta \\ dr \\ d\\theta \\ d\\phi$\n",
    "\n",
    "where $r^{2}[R_{nl}]^{2}$ is the radial probability density function\n",
    "\n",
    "Location of nodes: $\\Psi^2 = 0$ since at nodes probability of electron being there is $0$\n",
    "- $R(r) = 0$ to determine location of radial nodes\n",
    "- $Y_{lm}(\\theta,\\phi) = 0$ to determine location of angular nodes"
   ]
  },
  {
   "cell_type": "markdown",
   "metadata": {},
   "source": [
    "#### s-orbitals(1 electron atoms)####\n",
    "\n",
    "- $n > 0$\n",
    "- $ l = 0$\n",
    "- $m_l =0$\n",
    "\n",
    "\n",
    "- Angular part $Y(\\theta,\\phi)$\n",
    "\n",
    "    - $l = 0 \\{ Y_{s} = (\\frac{1}{4\\pi})^{\\frac{1}{2}}$\n",
    "    \n",
    "\n",
    "- Radial Part $R_{nl}(r)$\n",
    "    - $R_{1s} = 2\\left(\\frac{Z}{a_0}\\right)^{\\frac{3}{2}}\\mathrm{e}^{-\\sigma}$\n",
    "<br/>\n",
    "<br/>\n",
    "    - $R_{2s} = \\frac{1}{2\\sqrt{2}}\\left(\\frac{Z}{a_0}\\right)^{\\frac{3}{2}}(2-\\sigma) \\ \\mathrm{e}^{-\\frac{\\sigma}{2}}$\n",
    "<br/>\n",
    "<br/>\n",
    "    - $R_{3s} = \\frac{2}{81\\sqrt{3}}\\left(\\frac{Z}{a_0}\\right)^{\\frac{3}{2}}(27-18\\sigma+2\\sigma^{2}) \\ \\mathrm{e}^{-\\frac{\\sigma}{3}}$\n",
    "    \n",
    "where $\\sigma = \\frac{Zr}{a_0}$ and $a_{0} = \\frac{\\epsilon_{0}h^2}{\\pi \\ \\mathrm{e}^2 m_{e}} = 0.529\\times10^{-10} \\ \\mathrm{m}$"
   ]
  },
  {
   "cell_type": "code",
   "execution_count": 32,
   "metadata": {},
   "outputs": [
    {
     "data": {
      "image/png": "[encoded data removed]",
      "text/plain": [
       "<matplotlib.figure.Figure at 0x2095efeeda0>"
      ]
     },
     "metadata": {},
     "output_type": "display_data"
    }
   ],
   "source": [
    "import matplotlib.pyplot as plt\n",
    "import numpy as np\n",
    "\n",
    "a = 0.529*10**(-10)\n",
    "r = np.linspace(0, 30*a, 100)\n",
    "s = r/a\n",
    "\n",
    "y1 = (r*2*(1/a)**(1.5)*np.exp(-s))**2\n",
    "y2 = (r/(2*np.sqrt(2))*(1/a)**(1.5)*(2-s)*np.exp(-s/2))**2\n",
    "y3 = (r*2/(81*np.sqrt(3))*(1/a)**(1.5)*(27-18*s+2*s**2)*np.exp(-s/3))**2\n",
    "\n",
    "plt.plot(r, y1, label=\"1s\")\n",
    "plt.plot(r, y2, label=\"2s\")\n",
    "plt.plot(r, y3, label=\"3s\")\n",
    "plt.title(\"Radial Probability density function of s-orbitals\")\n",
    "\n",
    "plt.xlabel(\"r\")\n",
    "plt.ylabel(\"Probability density\")\n",
    "plt.legend(bbox_to_anchor=(1.05, 1), loc=2, borderaxespad=0.)\n",
    "\n",
    "plt.show()\n",
    "\n",
    "\n"
   ]
  },
  {
   "cell_type": "code",
   "execution_count": 44,
   "metadata": {},
   "outputs": [
    {
     "data": {
      "image/png": "[encoded data removed]",
      "text/plain": [
       "<matplotlib.figure.Figure at 0x20960353cc0>"
      ]
     },
     "metadata": {},
     "output_type": "display_data"
    }
   ],
   "source": [
    "import matplotlib.pyplot as plt\n",
    "from mpl_toolkits.mplot3d import Axes3D\n",
    "\n",
    "import numpy as np\n",
    "\n",
    "a = 0.529*10**(-10)\n",
    "\n",
    "#def r, theta, phi\n",
    "r = np.linspace(-15*a, 15*a, 100)\n",
    "t = np.linspace(0,2*np.pi, 100)\n",
    "p = np.linspace(0,2*np.pi,100)\n",
    "\n",
    "t1,p1 = np.meshgrid(t,p)\n",
    "\n",
    "s = r/a\n",
    "\n",
    "fig = plt.figure()\n",
    "ax = fig.gca(projection='3d')\n",
    "\n",
    "x = ((1/np.sqrt(np.pi))*(1/a)**(1.5)*np.exp(-s))**2*np.sin(t1)*np.cos(p1)\n",
    "y = ((1/np.sqrt(np.pi))*(1/a)**(1.5)*np.exp(-s))**2*np.sin(t1)*np.sin(p1)\n",
    "z = ((1/np.sqrt(np.pi))*(1/a)**(1.5)*np.exp(-s))**2*np.cos(t1)\n",
    "\n",
    "ax.plot_surface(x,y,z)\n",
    "\n",
    "plt.show()"
   ]
  },
  {
   "cell_type": "markdown",
   "metadata": {},
   "source": [
    "#### p- orbitals (1 electron atoms)####\n",
    "- $n > 0$\n",
    "- $ l = 1$\n",
    "- $m_l =-1, \\ 0, \\ 1$\n",
    "\n",
    "\n",
    "- Angular part $Y(\\theta, \\phi)$\n",
    "    - $Y_{p_{x}} = \\left( \\frac{3}{4\\pi}\\right) ^{\\frac{1}{2}} \\sin\\theta\\cos\\phi$\n",
    "<br/>\n",
    "<br/>\n",
    "    - $Y_{p_{y}} = \\left( \\frac{3}{4\\pi}\\right) ^{\\frac{1}{2}} \\sin\\theta\\sin\\phi$\n",
    "<br/>\n",
    "<br/>\n",
    "    - $Y_{p_{z}} = \\left( \\frac{3}{4\\pi}\\right) ^{\\frac{1}{2}} \\cos\\theta$\n",
    "\n",
    "\n",
    "- Radial Part $R_{nl}(r)$\n",
    "    - $R_{2_{p}} = \\frac{1}{2\\sqrt{6}}\\left( \\frac{Z}{a_0} \\right) ^ {\\frac{3}{2}} \\sigma \\ \\mathrm{e}^{\\frac{-\\sigma}{2}}$\n",
    "<br/>\n",
    "<br/>\n",
    "    - $R_{3_{p}} = \\frac{4}{81\\sqrt{6}}\\left( \\frac{Z}{a_0} \\right) ^ {\\frac{3}{2}} (6\\sigma - \\sigma^2) \\ \\mathrm{e}^{\\frac{-\\sigma}{2}}$\n",
    "    \n",
    "where $\\sigma = \\frac{Zr}{a_0}$ and $a_{0} = \\frac{\\epsilon_{0}h^2}{\\pi \\ \\mathrm{e}^2 m_{e}} = 0.529\\times10^{-10} \\ \\mathrm{m}$"
   ]
  },
  {
   "cell_type": "code",
   "execution_count": 38,
   "metadata": {},
   "outputs": [
    {
     "data": {
      "image/png": "[encoded data removed]",
      "text/plain": [
       "<matplotlib.figure.Figure at 0x209602325f8>"
      ]
     },
     "metadata": {},
     "output_type": "display_data"
    }
   ],
   "source": [
    "import matplotlib.pyplot as plt\n",
    "import numpy as np\n",
    "\n",
    "#def bohr radius\n",
    "a = 0.529*10**(-10)\n",
    "\n",
    "#def r,theta, phi\n",
    "r = np.linspace(0, 20*a, 100)\n",
    "t = np.linspace(0,2*np.pi,50)\n",
    "p = np.linspace(0,2*np.pi, 50)\n",
    "\n",
    "#def sigma\n",
    "s = r/a\n",
    "\n",
    "#convert spherical to cartesian\n",
    "x = r*np.sin(t)*np.cos(p)\n",
    "y = r*np.sin(t)*sin(p)\n",
    "z = r*c"
   ]
  },
  {
   "cell_type": "markdown",
   "metadata": {},
   "source": [
    "#### d-orbitals (1 electron atoms)####\n",
    "- $n > 0$\n",
    "- $ l = 2$\n",
    "- $m_l = -2, \\ -1, \\ 0, \\ 1, \\ 2$"
   ]
  },
  {
   "cell_type": "code",
   "execution_count": null,
   "metadata": {
    "collapsed": true
   },
   "outputs": [],
   "source": []
  },
  {
   "cell_type": "markdown",
   "metadata": {},
   "source": [
    "#### Other nuclear interactions ####\n",
    "\n",
    "##### shielding effects\n",
    "- inner electron shield outer electron from full charge Z of the nucleus\n",
    "    - reduces nuclear charge electron actually experiences\n",
    "    - makes the electron easier to remove\n",
    "- electrons at the same sublevel repel each other\n",
    "    - less energy to remove\n",
    "    - lower effective nuclear charge\n",
    "    \n",
    "##### Penetration effects\n",
    "- effect of orbital shap, $l$, on sublevel energy depends on penetration of radial probability distribuition curves\n",
    "    - e.g the 2s sublevel is lower in energy than the 2p orbital because it penetrates closer to the nucleus\n",
    "    \n",
    "##### Effects on sublevel energy -basically stuff learned before\n",
    "- Splitting of energy level into different energy levels\n",
    "- Removed degeneracy of energy levels for H atom states with different $l$ values\n",
    "- in general sublevel energy increases as $n \\ (1<2<3<4)$ increases and as $l \\ (s<p<d<f)$ increases\n",
    "- as $n$ increases some sublevels overlap\n",
    "- sublevels are filled from low to high energy"
   ]
  },
  {
   "cell_type": "code",
   "execution_count": null,
   "metadata": {
    "collapsed": true
   },
   "outputs": [],
   "source": []
  }
 ],
 "metadata": {
  "kernelspec": {
   "display_name": "Python 3",
   "language": "python",
   "name": "python3"
  }
 },
 "nbformat": 4,
 "nbformat_minor": 2
}
